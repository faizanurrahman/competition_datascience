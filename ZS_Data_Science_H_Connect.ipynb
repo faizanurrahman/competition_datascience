{
  "nbformat": 4,
  "nbformat_minor": 0,
  "metadata": {
    "colab": {
      "name": "ZS Data Science H-Connect",
      "provenance": [],
      "collapsed_sections": [],
      "include_colab_link": true
    },
    "kernelspec": {
      "name": "python3",
      "display_name": "Python 3"
    },
    "accelerator": "TPU"
  },
  "cells": [
    {
      "cell_type": "markdown",
      "metadata": {
        "id": "view-in-github",
        "colab_type": "text"
      },
      "source": [
        "<a href=\"https://colab.research.google.com/github/faizanurrahman/temp_data/blob/master/ZS_Data_Science_H_Connect.ipynb\" target=\"_parent\"><img src=\"https://colab.research.google.com/assets/colab-badge.svg\" alt=\"Open In Colab\"/></a>"
      ]
    },
    {
      "cell_type": "markdown",
      "metadata": {
        "id": "MKUskJ5cvH8s",
        "colab_type": "text"
      },
      "source": [
        "### Problems Statement \n",
        "Health Care Connect, or H-Connect, is a Job search platform, which provides intelligent services to make the recruitment process batter for everyone. This time H-Connect wants to build a new feature in his platform that can help recruiters suggest a job type and job category based on the job description. \n",
        "\n",
        "In this challenge, H-Connect provides a Dataset that contains job description, job type, and job category based on this we have to build a model that predicts the job type and job category based on the job description. Let's dive into the dataset and make some useful insight.\n",
        "\n",
        "### Data Understanding And Exploration"
      ]
    },
    {
      "cell_type": "code",
      "metadata": {
        "id": "F0Yh2R2U-R6b",
        "colab_type": "code",
        "colab": {}
      },
      "source": [
        "# import packages\n",
        "import numpy as np\n",
        "import pandas as pd\n",
        "import spacy\n",
        "import re\n",
        "\n",
        "from gensim import corpora, models, similarities\n",
        "\n",
        "from sklearn.feature_extraction.text import TfidfVectorizer\n",
        "from sklearn.model_selection import train_test_split\n",
        "from sklearn.metrics import f1_score\n",
        "from sklearn.metrics import classification_report\n",
        "from sklearn.metrics import confusion_matrix\n",
        "\n",
        "# setting up default plotting parameters\n",
        "import matplotlib.pyplot as plt\n",
        "import seaborn as sns\n",
        "%matplotlib inline\n",
        "\n",
        "#plt.rcParams['figure.figsize'] = [20.0, 7.0]\n",
        "plt.rcParams.update({'font.size': 22,})\n",
        "\n",
        "sns.set_palette('viridis')\n",
        "sns.set_style('white')\n",
        "sns.set_context('talk', font_scale=0.8)\n",
        "\n",
        "\n",
        "# ignore warnings\n",
        "import warnings\n",
        "warnings.filterwarnings('ignore')\n",
        "np.random.seed(27)"
      ],
      "execution_count": 0,
      "outputs": []
    },
    {
      "cell_type": "code",
      "metadata": {
        "id": "OnmV0VjX-0yo",
        "colab_type": "code",
        "colab": {}
      },
      "source": [
        "from google.colab import drive\n",
        "drive.mount('/gdrive')\n",
        "%cd /gdrive/My Drive/ZS Data Science/DataSet"
      ],
      "execution_count": 0,
      "outputs": []
    },
    {
      "cell_type": "code",
      "metadata": {
        "id": "BVXvRehL_I4M",
        "colab_type": "code",
        "colab": {}
      },
      "source": [
        "# Read files.\n",
        "train = pd.read_csv('./train.csv')\n",
        "test = pd.read_csv('./test.csv')\n",
        "sample_submission = pd.read_csv('./sample_submission.csv')\n",
        "# Size of Dataset's\n",
        "print(f\"Train Data Shape: {train.shape}\")\n",
        "print(f\"\\nTest Data Shape: {test.shape}\")\n"
      ],
      "execution_count": 0,
      "outputs": []
    },
    {
      "cell_type": "code",
      "metadata": {
        "id": "AxVgzJzUGe3m",
        "colab_type": "code",
        "outputId": "cd651da5-2307-4f41-f5be-6914ca85cc18",
        "colab": {
          "base_uri": "https://localhost:8080/",
          "height": 53
        }
      },
      "source": [
        " train.columns.values"
      ],
      "execution_count": 0,
      "outputs": [
        {
          "output_type": "execute_result",
          "data": {
            "text/plain": [
              "array(['job_no', 'job_description', 'job_type', 'category', 'ngram_1',\n",
              "       'ngram_2'], dtype=object)"
            ]
          },
          "metadata": {
            "tags": []
          },
          "execution_count": 72
        }
      ]
    },
    {
      "cell_type": "markdown",
      "metadata": {
        "id": "hNtoPPBg6H6J",
        "colab_type": "text"
      },
      "source": [
        "**job_no -** A unique identifier for each job post.\n",
        "\n",
        "**job_description -** The full text of the job post as provided by the job advertiser.\n",
        "\n",
        "**job_type -** The type of job, full_time or part_time, permanent or contract, Seasonal or Any.\n",
        "\n",
        "**Category** - Possible 11 job category posted by job advertiser.\n",
        "\n",
        "### Data Preprocessing\n"
      ]
    },
    {
      "cell_type": "code",
      "metadata": {
        "id": "DxVsg3bEG6nI",
        "colab_type": "code",
        "outputId": "b23a82d1-d4f6-4c0d-ae3f-c1072ed3dcea",
        "colab": {
          "base_uri": "https://localhost:8080/",
          "height": 490
        }
      },
      "source": [
        "# Lets look at one job description\n",
        "print(train.loc[162, 'job_description'])"
      ],
      "execution_count": 0,
      "outputs": [
        {
          "output_type": "stream",
          "text": [
            "STAGIAIRE OU REPRÉSENTANTS DES VENTES PHARMACEUTIQUES - SOINS / SOINS PRIMAIRES EXPÉRIMENTÉS - EXPANSION D'UNE ÉQUIPE EXCITANTE\r\r\r\n",
            "Êtes-vous un représentant expérimenté en ventes de produits pharmaceutiques de soins primaires à la recherche d'un nouveau défi? Ou un stagiaire à la recherche de votre premier rôle dans les ventes pharmaceutiques? Souhaitez-vous avoir l’occasion de travailler pour l’une des sociétés de premier ordre les plus respectées au monde dans le cadre d’une expansion majeure de l’équipe nationale?\r\r\r\n",
            "L'organisation en question est une entreprise mondiale de soins de santé qui recherche et développe des produits innovants dans les domaines des produits pharmaceutiques, des vaccins et de la santé des consommateurs; ils vont considérablement améliorer leur division respiratoire en prévision d'une formation débutant le 21 mai et nous recherchons donc des candidats dans les zones géographiques suivantes:\r\r\r\n",
            "SR 4416 Bristol\r\r\r\n",
            "SR 4417 Somerset\r\r\r\n",
            "SR 4418 Devon\r\r\r\n",
            "SR 4419 Gloucestershire\r\r\r\n",
            "SR 4424 Dorset\r\r\r\n",
            "Dans ces postes permanents à temps plein nouvellement créés, vous aurez la responsabilité de promouvoir un portefeuille de produits pharmaceutiques sur ordonnance uniquement, axés sur le marché, axés sur la médecine respiratoire (MPOC / asthme); En ciblant les médecins généralistes, les infirmières praticiennes et les pharmaciens détaillants de votre zone géographique désignée, vous collaborerez avec des collègues du territoire pour optimiser la prescription de vos marques, générant ainsi une augmentation des ventes et des parts de marché.\r\r\r\n",
            "Bien que nos clients soient ravis de recevoir des candidatures de représentants des ventes pharmaceutiques expérimentés, ils sont également intéressés par des candidats débutants à la recherche de leur 1ère position dans l’industrie. Si vous souhaitez être considéré, vous devez répondre aux critères suivants:\r\r\r\n",
            "Vivez déjà dans la zone géographique en question - si vous ne résidez pas dans cette localité, vous devez avoir un motif personnel de déménager (par exemple, emménager avec un partenaire, des amis ou de la famille dans la région, etc. motivation primaire)\r\r\r\n",
            "Les candidats doivent être titulaires d'un diplôme ou d'un niveau d'études équivalent, de préférence dans un domaine des sciences de la vie ou des affaires.\r\r\r\n",
            "Si vous êtes un candidat stagiaire / débutant, vous devez avoir une bonne compréhension des tâches et responsabilités liées au travail en tant que représentant des ventes de produits pharmaceutiques au sein des soins primaires, en ayant effectué une journée de travail d'observation.\r\r\r\n",
            "expérience de vente proactive / ciblée antérieure est également une exigence essentielle\r\r\r\n",
            "Détenir un permis de conduire britannique (6 points maximum); s'il vous plaît noter que nous ne pouvons pas accepter les demandes de personnes avec une interdiction de conduire antérieure\r\r\r\n",
            "Admissible à travailler au Royaume-Uni à temps plein, de manière permanente - malheureusement, nous ne serons pas en mesure de considérer les candidats nécessitant un parrainage\r\r\r\n",
            "Doit être disponible pour commencer à travailler à partir du 21 mai 2018 au début du programme de formation.\r\r\r\n",
            "En contrepartie, vous serez récompensé par un salaire de base généreux (dépendant de votre expérience et de votre rémunération actuelle) et vous recevrez un package incluant indemnité journalière hors taxe, voiture de société, portable, téléphone, ainsi qu'une gamme d'avantages flexibles personnalisables pour vous.\r\r\r\n",
            "Pour enregistrer votre intérêt, postulez en ligne ou envoyez-nous votre CV directement - soyez assuré que toutes les applications et conversations seront traitées dans la plus stricte confidentialité et que votre CV ne sera pas envoyé à cette organisation ou à toute autre organisation sans votre consentement explicite. alors. Nous vous invitons à nous contacter avant de postuler si vous avez besoin d'informations supplémentaires sur l'entreprise cliente ou si vous souhaitez vous renseigner sur votre aptitude.\r\r\r\n",
            "Bien que nous aimerions répondre à chaque e-mail, cela n'est malheureusement pas toujours possible. Si vous n'avez pas reçu de réponse de notre part et que vous pensez que votre expérience correspond aux critères décrits dans l'annonce, veuillez suivre avec un appel téléphonique car une application en ligne ne nous parvient pas. Si vous ne progressez pas dans votre candidature à ce rôle, vous serez bien entendu invité à postuler pour d’autres opportunités que nous faisons de la publicité.\r\r\r\n",
            "Si vous connaissez quelqu'un qui pourrait être intéressé par un de ces postes vacants ou qui cherche activement un emploi, veuillez nous communiquer nos coordonnées - vous recevrez 500 £ en guise de remerciement si nous les remplaçons avec succès. .\r\r\r\n",
            "Appliquer maintenant\r\r\r\n",
            "N ° de réf.: 132396-SR-4418TE\r\r\r\n",
            "Sapling Recruitment Ltd. annonce la vacance de ce poste. Les services annoncés par Sapling Recruitment Ltd sont ceux d’une agence de placement.\r\r\r\n",
            "Veuillez noter notre nouveau numéro de téléphone - [numéro de téléphone supprimé]\n"
          ],
          "name": "stdout"
        }
      ]
    },
    {
      "cell_type": "markdown",
      "metadata": {
        "id": "ZoCwztsOHqaF",
        "colab_type": "text"
      },
      "source": [
        "**Cleaning up the job descriptions**\n",
        "\n",
        "\n",
        "A look at the description above shows us that these descriptions contain - numbers, urls and certain strings as '*' which I believe are either phone numbers or special serial number that have been removed so that these do not affect our predictions! We will have to remove these strings before we try out any analytics!\n"
      ]
    },
    {
      "cell_type": "code",
      "metadata": {
        "colab_type": "code",
        "outputId": "b5c49027-7c21-4cbb-a63d-b03bb3f11e1d",
        "id": "xc_93zXBtQD1",
        "colab": {
          "base_uri": "https://localhost:8080/",
          "height": 71
        }
      },
      "source": [
        "# function to clean and lemmatize text and remove stopwords\n",
        "from gensim.parsing.preprocessing import preprocess_string\n",
        "from gensim.parsing.preprocessing import strip_tags, strip_punctuation, strip_numeric\n",
        "from gensim.parsing.preprocessing import strip_multiple_whitespaces, strip_non_alphanum, remove_stopwords, strip_short\n",
        "\n",
        "CUSTOM_FILTERS = [lambda x: str(x), # encode in utf-8\n",
        "                  lambda x: x.lower(), # convert to lowercase\n",
        "                  # remove emails, urls etc\n",
        "                  lambda x: re.sub('[^\\s]*.com[^\\s]*', \"\", x),\n",
        "                  lambda x: re.sub('[^\\s]*www.[^\\s]*', \"\", x),\n",
        "                  lambda x: re.sub('[^\\s]*.co.uk[^\\s]*', \"\", x),\n",
        "                  # remove special charecter\n",
        "                  lambda x: re.sub('[^\\s]*[\\*]+[^\\s]*', \"\", x),\n",
        "                  lambda x: re.sub(r'\\([^)]*\\)', '', x),\n",
        "                  strip_tags, # remove html tags\n",
        "                  strip_punctuation, # replace punctuation with space\n",
        "                  strip_non_alphanum, # remove non-alphanumeric characters\n",
        "                  strip_numeric, # remove numbers\n",
        "                  remove_stopwords,# remove stopwords\n",
        "                  strip_short, # remove words less than minsize=4 characters long\n",
        "                  strip_multiple_whitespaces# remove repeating whitespaces\n",
        "                 ]\n",
        "nlp = spacy.load('en')\n",
        "\n",
        "def text_preprocess(docs, logging=True):\n",
        "    docs = [preprocess_string(text, CUSTOM_FILTERS) for text in docs]\n",
        "    texts_out = []\n",
        "    for doc in docs:\n",
        "    # spacy processing-pipelines\n",
        "        doc = nlp((\" \".join(doc)),  # doc = text to tokenize => creates doc\n",
        "                  # disable parts of the language processing pipeline we don't need here to speed up processing\n",
        "                  disable=['ner', # named entity recognition\n",
        "                           'tagger', # part-of-speech tagger\n",
        "                           'textcat', # document label categorizer\n",
        "                          ])\n",
        "        texts_out.append([tok.lemma_ for tok in doc if tok.lemma_ != '-PRON-'])\n",
        "    return pd.Series(texts_out)\n",
        "\n",
        "text_preprocess(train.job_description.iloc[10:12])"
      ],
      "execution_count": 0,
      "outputs": [
        {
          "output_type": "execute_result",
          "data": {
            "text/plain": [
              "0    [currently, look, nurse, adviser, primary, car...\n",
              "1    [enjoy, work, sale, represent, different, prod...\n",
              "dtype: object"
            ]
          },
          "metadata": {
            "tags": []
          },
          "execution_count": 12
        }
      ]
    },
    {
      "cell_type": "code",
      "metadata": {
        "colab_type": "code",
        "id": "7ee7qDQTtPrd",
        "colab": {}
      },
      "source": [
        ""
      ],
      "execution_count": 0,
      "outputs": []
    },
    {
      "cell_type": "code",
      "metadata": {
        "colab_type": "code",
        "outputId": "31998751-7aea-41d8-c00f-81b2cc5c3ed6",
        "id": "p3IXvRcutPGE",
        "colab": {
          "base_uri": "https://localhost:8080/",
          "height": 53
        }
      },
      "source": [
        "# apply text-preprocessing function to training set\n",
        "%time train_corpus = text_preprocess(train.job_description)\n"
      ],
      "execution_count": 0,
      "outputs": [
        {
          "output_type": "stream",
          "text": [
            "CPU times: user 6min 19s, sys: 35 s, total: 6min 54s\n",
            "Wall time: 6min 55s\n"
          ],
          "name": "stdout"
        }
      ]
    },
    {
      "cell_type": "code",
      "metadata": {
        "id": "rIFMIraHPOZ4",
        "colab_type": "code",
        "outputId": "7d7af1fd-a2a9-4181-971a-fc82846c5410",
        "colab": {
          "base_uri": "https://localhost:8080/",
          "height": 73
        }
      },
      "source": [
        "# create ngrams\n",
        "ngram_phraser_1 = models.Phrases(train_corpus, threshold=1)\n",
        "ngram_phraser_2 = models.Phrases(train_corpus, threshold=10)\n",
        "ngram_1 = models.phrases.Phraser(ngram_phraser_1)\n",
        "ngram_2 = models.phrases.Phraser(ngram_phraser_2)\n",
        "#print example\n",
        "print(ngram_1[train_corpus[0]])\n",
        "print(ngram_2[train_corpus[0]])\n",
        "\n"
      ],
      "execution_count": 0,
      "outputs": [
        {
          "output_type": "stream",
          "text": [
            "['zest_scientific', 'search', 'scientific', 'sale_professional', 'netherlands', 'territory', 'play_pivotal', 'role', 'increase_presence', 'europe', 'present', 'wealth', 'untapped', 'potential', 'client', 'internationally', 'recognize', 'provide_well', 'class_solution', 'region', 'provide', 'excellent', 'growth', 'opportunity', 'motivate_entrepreneurial', 'technical', 'sale_specialist', 'highly_autonomous', 'role', 'input', 'encourage', 'provide', 'platform', 'implement', 'sell', 'method', 'business_plan', 'candidate', 'demonstrate', 'successful_track', 'record_sell', 'academic_research', 'clinical', 'diagnostics', 'hospital', 'laboratory', 'biotech', 'account', 'ability_learn', 'new', 'scientific_concept', 'require', 'hand_approach', 'support', 'customer', 'stage', 'sale', 'process', 'independent', 'work', 'limit', 'support', 'enterprising', 'willingness', 'exceed_customer', 'expectation', 'excellent_relationship', 'builder', 'role_responsible', 'deliver_annual', 'sale', 'plan', 'develope', 'exist', 'key_account', 'strategically', 'identify_new', 'development', 'opportunity', 'clinical', 'diagnostics', 'laboratory', 'clinical', 'chemistry', 'target', 'high_value', 'potential', 'customer', 'leverage', 'influence', 'exist_account', 'high_degree', 'autonomy', 'freedom', 'carve', 'profitable', 'territory', 'netherlands_global', 'presence', 'offer_well', 'class_solution', 'provide', 'extensive_house', 'train', 'believe', 'technical', 'sale_specialist', 'provide', 'class', 'post', 'sale', 'support', 'maintain_close', 'work_relationship', 'end_user', 'currently', 'experience', 'excellent', 'level', 'growth', 'new_product', 'line', 'add', 'portfolio', 'provide_solution', 'clinical', 'lab', 'remuneration', 'order_secure', 'service', 'right', 'quality', 'candidate', 'client_offer', 'highly_attractive', 'salary_package', 'additional_benefit', 'include', 'car', 'healthcare_pension', 'zest_scientific', 'work_strict', 'deadline_order', 'consider', 'opportunity', 'apply', 'application', 'review_immediately', 'apply_ref']\n",
            "['zest_scientific', 'search', 'scientific', 'sale', 'professional', 'netherlands', 'territory', 'play_pivotal', 'role', 'increase_presence', 'europe', 'present', 'wealth', 'untapped', 'potential', 'client', 'internationally', 'recognize', 'provide', 'well_class', 'solution', 'region', 'provide', 'excellent', 'growth', 'opportunity', 'motivate', 'entrepreneurial', 'technical', 'sale', 'specialist', 'highly_autonomous', 'role', 'input', 'encourage', 'provide', 'platform', 'implement', 'sell', 'method', 'business', 'plan', 'candidate', 'demonstrate', 'successful', 'track_record', 'sell', 'academic', 'research', 'clinical', 'diagnostics', 'hospital', 'laboratory', 'biotech', 'account', 'ability', 'learn', 'new', 'scientific', 'concept', 'require', 'hand_approach', 'support', 'customer', 'stage', 'sale', 'process', 'independent', 'work', 'limit', 'support', 'enterprising', 'willingness', 'exceed', 'customer', 'expectation', 'excellent', 'relationship_builder', 'role', 'responsible', 'deliver', 'annual', 'sale', 'plan', 'develope', 'exist', 'key_account', 'strategically', 'identify', 'new', 'development', 'opportunity', 'clinical', 'diagnostics', 'laboratory', 'clinical', 'chemistry', 'target', 'high', 'value', 'potential', 'customer', 'leverage', 'influence', 'exist', 'account', 'high', 'degree', 'autonomy', 'freedom', 'carve', 'profitable', 'territory', 'netherlands', 'global_presence', 'offer', 'well_class', 'solution', 'provide', 'extensive', 'house', 'train', 'believe', 'technical', 'sale', 'specialist', 'provide', 'class', 'post', 'sale', 'support', 'maintain', 'close', 'work', 'relationship', 'end_user', 'currently', 'experience', 'excellent', 'level', 'growth', 'new', 'product', 'line', 'add', 'portfolio', 'provide', 'solution', 'clinical', 'lab', 'remuneration', 'order', 'secure', 'service', 'right', 'quality', 'candidate', 'client', 'offer', 'highly', 'attractive', 'salary', 'package', 'additional', 'benefit', 'include', 'car', 'healthcare', 'pension', 'zest_scientific', 'work', 'strict_deadline', 'order_consider', 'opportunity', 'apply', 'application', 'review_immediately', 'apply_ref']\n"
          ],
          "name": "stdout"
        }
      ]
    },
    {
      "cell_type": "code",
      "metadata": {
        "id": "JpHvjP-j7RBU",
        "colab_type": "code",
        "colab": {}
      },
      "source": [
        "# apply model to corpus\n",
        "texts_1 = [ngram_1[token] for token in train_corpus]\n",
        "texts_2 = [ngram_2[token] for token in train_corpus]\n",
        "# adding it to dataframe\n",
        "texts_1 = [' '.join(text) for text in texts_1]\n",
        "texts_2 = [' '.join(text) for text in texts_2]\n",
        "train['ngram_1'] = texts_1\n",
        "train['ngram_2'] = texts_2"
      ],
      "execution_count": 0,
      "outputs": []
    },
    {
      "cell_type": "code",
      "metadata": {
        "id": "Ks23GHmtPhaw",
        "colab_type": "code",
        "outputId": "cb21d82f-5ce9-451a-a35d-2125101eb6a7",
        "colab": {
          "base_uri": "https://localhost:8080/",
          "height": 282
        }
      },
      "source": [
        "train.head()"
      ],
      "execution_count": 0,
      "outputs": [
        {
          "output_type": "execute_result",
          "data": {
            "text/html": [
              "<div>\n",
              "<style scoped>\n",
              "    .dataframe tbody tr th:only-of-type {\n",
              "        vertical-align: middle;\n",
              "    }\n",
              "\n",
              "    .dataframe tbody tr th {\n",
              "        vertical-align: top;\n",
              "    }\n",
              "\n",
              "    .dataframe thead th {\n",
              "        text-align: right;\n",
              "    }\n",
              "</style>\n",
              "<table border=\"1\" class=\"dataframe\">\n",
              "  <thead>\n",
              "    <tr style=\"text-align: right;\">\n",
              "      <th></th>\n",
              "      <th>job_no</th>\n",
              "      <th>job_description</th>\n",
              "      <th>job_type</th>\n",
              "      <th>category</th>\n",
              "      <th>ngram_1</th>\n",
              "      <th>ngram_2</th>\n",
              "    </tr>\n",
              "  </thead>\n",
              "  <tbody>\n",
              "    <tr>\n",
              "      <th>0</th>\n",
              "      <td>Id-12765</td>\n",
              "      <td>Zest Scientific is searching for an accomplis...</td>\n",
              "      <td>Permanent</td>\n",
              "      <td>Pharmaceutical, Healthcare and Medical Sales</td>\n",
              "      <td>zest_scientific search scientific sale_profess...</td>\n",
              "      <td>zest_scientific search scientific sale profess...</td>\n",
              "    </tr>\n",
              "    <tr>\n",
              "      <th>1</th>\n",
              "      <td>Id-22925</td>\n",
              "      <td>En el mundo de los CRO's típicos, esta compañí...</td>\n",
              "      <td>Permanent</td>\n",
              "      <td>Clinical Research</td>\n",
              "      <td>mundo los cro típicos está haciendo grandes ol...</td>\n",
              "      <td>mundo los cro típicos está haciendo grandes ol...</td>\n",
              "    </tr>\n",
              "    <tr>\n",
              "      <th>2</th>\n",
              "      <td>Id-1321</td>\n",
              "      <td>Asha Mistry of Umbilical Life is recruiting an...</td>\n",
              "      <td>Contract/Interim</td>\n",
              "      <td>Pharmaceutical Marketing</td>\n",
              "      <td>asha_mistry umbilical_life recruit experience ...</td>\n",
              "      <td>asha_mistry umbilical_life recruit experience ...</td>\n",
              "    </tr>\n",
              "    <tr>\n",
              "      <th>3</th>\n",
              "      <td>Id-9473</td>\n",
              "      <td>Sales Representative - Laser in der Medizinte...</td>\n",
              "      <td>Permanent</td>\n",
              "      <td>Pharmaceutical, Healthcare and Medical Sales</td>\n",
              "      <td>sale_representative laser der_medizintechnik m...</td>\n",
              "      <td>sale_representative laser der_medizintechnik m...</td>\n",
              "    </tr>\n",
              "    <tr>\n",
              "      <th>4</th>\n",
              "      <td>Id-14952</td>\n",
              "      <td>Field Service Engineer - Life Science\\r\\r\\r\\nC...</td>\n",
              "      <td>Permanent</td>\n",
              "      <td>Manufacturing &amp; Operations</td>\n",
              "      <td>field_service engineer life_science cambridge ...</td>\n",
              "      <td>field service engineer life_science cambridge ...</td>\n",
              "    </tr>\n",
              "  </tbody>\n",
              "</table>\n",
              "</div>"
            ],
            "text/plain": [
              "     job_no  ...                                            ngram_2\n",
              "0  Id-12765  ...  zest_scientific search scientific sale profess...\n",
              "1  Id-22925  ...  mundo los cro típicos está haciendo grandes ol...\n",
              "2   Id-1321  ...  asha_mistry umbilical_life recruit experience ...\n",
              "3   Id-9473  ...  sale_representative laser der_medizintechnik m...\n",
              "4  Id-14952  ...  field service engineer life_science cambridge ...\n",
              "\n",
              "[5 rows x 6 columns]"
            ]
          },
          "metadata": {
            "tags": []
          },
          "execution_count": 18
        }
      ]
    },
    {
      "cell_type": "code",
      "metadata": {
        "id": "KbOfS04SG67o",
        "colab_type": "code",
        "outputId": "a5f3470e-d19b-48b1-ea88-48b61f6bc896",
        "colab": {
          "base_uri": "https://localhost:8080/",
          "height": 521
        }
      },
      "source": [
        "# Check class distribution\n",
        "fig = plt.figure(figsize=(15, 4))\n",
        "ax1 = fig.add_subplot(121)\n",
        "ax2 = fig.add_subplot(122)\n",
        "train.category.value_counts().plot(kind='bar', title='Count (category)', ax=ax1)\n",
        "train.job_type.value_counts().plot(kind='bar', title='Count (job_type)', ax=ax2)"
      ],
      "execution_count": 0,
      "outputs": [
        {
          "output_type": "execute_result",
          "data": {
            "text/plain": [
              "<matplotlib.axes._subplots.AxesSubplot at 0x7fabf63baa58>"
            ]
          },
          "metadata": {
            "tags": []
          },
          "execution_count": 29
        },
        {
          "output_type": "display_data",
          "data": {
            "image/png": "[encoded data removed]",
            "text/plain": [
              "<Figure size 1080x288 with 2 Axes>"
            ]
          },
          "metadata": {
            "tags": []
          }
        }
      ]
    },
    {
      "cell_type": "markdown",
      "metadata": {
        "id": "mi4Z7QRCIWfl",
        "colab_type": "text"
      },
      "source": [
        "### Sampling: \n",
        "**Randome OverSampling**"
      ]
    },
    {
      "cell_type": "code",
      "metadata": {
        "id": "MVXt9vWZIGEu",
        "colab_type": "code",
        "colab": {}
      },
      "source": [
        "counts_category = train.category.value_counts()\n",
        "# Divide by class\n",
        "df_class_Pharmacy = train[train['category'] == 'Pharmacy']\n",
        "df_class_Mediacl_Affairs_Pharmaceutical_Phsician = train[train['category'] == 'Medical Affairs / Pharmaceutical Physician']\n",
        "df_class_MedicalInformationandPharmacovigilance = train[train['category'] == 'Medical Information and Pharmacovigilance']\n",
        "df_class_Qualityassurance = train[train['category'] == 'Quality-assurance']\n",
        "df_class_DataManagementandStatistics = train[train['category'] == 'Data Management and Statistics']\n",
        "df_class_PharmaceuticalMarketing = train[train['category'] == 'Pharmaceutical Marketing']\n",
        "df_class_RegulatoryAffairs = train[train['category'] == 'Regulatory Affairs']\n",
        "df_class_ManufacturingOperations = train[train['category'] == 'Manufacturing & Operations']\n",
        "df_class_Science = train[train['category'] == 'Science']\n",
        "df_class_ClinicalResearch = train[train['category'] == 'Clinical Research']\n",
        "df_class_PharmaceuticalHealthcareMedicalSales = train[train['category'] == 'Pharmaceutical, Healthcare and Medical Sales']\n"
      ],
      "execution_count": 0,
      "outputs": []
    },
    {
      "cell_type": "code",
      "metadata": {
        "id": "srnSKJc4J5e0",
        "colab_type": "code",
        "colab": {}
      },
      "source": [
        "# random oversampling\n",
        "df_class_Pharmacy = df_class_Pharmacy.sample(counts_category[0], replace=True)\n",
        "df_class_Mediacl_Affairs_Pharmaceutical_Phsician = df_class_Mediacl_Affairs_Pharmaceutical_Phsician.sample(counts_category[0], replace=True)\n",
        "df_class_MedicalInformationandPharmacovigilance = df_class_MedicalInformationandPharmacovigilance.sample(counts_category[0], replace=True)\n",
        "df_class_Qualityassurance = df_class_Qualityassurance.sample(counts_category[0], replace=True)\n",
        "df_class_DataManagementandStatistics =df_class_DataManagementandStatistics.sample(counts_category[0], replace=True)\n",
        "df_class_PharmaceuticalMarketing = df_class_PharmaceuticalMarketing.sample(counts_category[0], replace=True)\n",
        "df_class_RegulatoryAffairs = df_class_RegulatoryAffairs.sample(counts_category[0], replace=True)\n",
        "df_class_ManufacturingOperations = df_class_ManufacturingOperations.sample(counts_category[0], replace=True)\n",
        "df_class_Science = df_class_Science.sample(counts_category[0], replace=True)\n",
        "df_class_ClinicalResearch = df_class_ClinicalResearch.sample(counts_category[0], replace=True)\n"
      ],
      "execution_count": 0,
      "outputs": []
    },
    {
      "cell_type": "code",
      "metadata": {
        "id": "Tk50zbwdKHBh",
        "colab_type": "code",
        "outputId": "b907762d-8a47-400e-a810-f9dcbcc36df6",
        "colab": {
          "base_uri": "https://localhost:8080/",
          "height": 521
        }
      },
      "source": [
        "# concatenate individual datafram\n",
        "df_train_oversampled = pd.concat([df_class_Pharmacy, df_class_Mediacl_Affairs_Pharmaceutical_Phsician, df_class_MedicalInformationandPharmacovigilance, df_class_Qualityassurance, df_class_DataManagementandStatistics, df_class_PharmaceuticalMarketing, df_class_RegulatoryAffairs, df_class_ManufacturingOperations, df_class_Science, df_class_ClinicalResearch, df_class_PharmaceuticalHealthcareMedicalSales], axis=0)\n",
        "\n",
        "# Now, Check class distribution\n",
        "fig = plt.figure(figsize=(15, 4))\n",
        "ax1 = fig.add_subplot(121)\n",
        "ax2 = fig.add_subplot(122)\n",
        "df_train_oversampled.category.value_counts().plot(kind='bar', title='Count (category)', ax=ax1)\n",
        "df_train_oversampled.job_type.value_counts().plot(kind='bar', title='Count (job_type)', ax=ax2)\n"
      ],
      "execution_count": 0,
      "outputs": [
        {
          "output_type": "execute_result",
          "data": {
            "text/plain": [
              "<matplotlib.axes._subplots.AxesSubplot at 0x7fabf633d048>"
            ]
          },
          "metadata": {
            "tags": []
          },
          "execution_count": 36
        },
        {
          "output_type": "display_data",
          "data": {
            "image/png": "[encoded data removed]",
            "text/plain": [
              "<Figure size 1080x288 with 2 Axes>"
            ]
          },
          "metadata": {
            "tags": []
          }
        }
      ]
    },
    {
      "cell_type": "code",
      "metadata": {
        "id": "aU5mq1fkLkuG",
        "colab_type": "code",
        "outputId": "6efc0569-1ae7-4d59-8ea6-4b9efde83a98",
        "colab": {
          "base_uri": "https://localhost:8080/",
          "height": 521
        }
      },
      "source": [
        "counts_job_type = train.job_type.value_counts()\n",
        "# Divide by class\n",
        "df_class_Permanent = train[train['job_type'] == 'Permanent']\n",
        "df_class_Contract_Interim = train[train['job_type'] == 'Contract/Interim']\n",
        "df_class_Contract_Temp = train[train['job_type'] == 'Contract/Temp']\n",
        "df_class_Temprory_Seasonal = train[train['job_type'] == 'Temporary/Seasonal']\n",
        "df_class_Any = train[train['job_type'] == 'Any']\n",
        "df_class_Part_Time = train[train['job_type'] == 'Part-Time']\n",
        "\n",
        "# random oversampling\n",
        "df_class_Contract_Interim = df_class_Contract_Interim.sample(counts_job_type[0], replace=True)\n",
        "df_class_Contract_Temp = df_class_Contract_Temp.sample(counts_job_type[0], replace=True)\n",
        "df_class_Temprory_Seasonal = df_class_Temprory_Seasonal.sample(counts_job_type[0], replace=True)\n",
        "df_class_Any = df_class_Any.sample(counts_job_type[0], replace=True)\n",
        "df_class_Part_Time = df_class_Part_Time.sample(counts_job_type[0], replace=True)\n",
        "\n",
        "df_train_oversampled_jobtype = pd.concat([df_class_Contract_Interim, df_class_Contract_Temp, df_class_Temprory_Seasonal, df_class_Any, df_class_Part_Time, df_class_Permanent], axis=0)\n",
        "\n",
        "# Now, Check class distribution\n",
        "fig = plt.figure(figsize=(15, 4))\n",
        "ax1 = fig.add_subplot(121)\n",
        "ax2 = fig.add_subplot(122)\n",
        "df_train_oversampled_jobtype.category.value_counts().plot(kind='bar', title='Count (category)', ax=ax1)\n",
        "df_train_oversampled_jobtype.job_type.value_counts().plot(kind='bar', title='Count (job_type)', ax=ax2)\n"
      ],
      "execution_count": 0,
      "outputs": [
        {
          "output_type": "execute_result",
          "data": {
            "text/plain": [
              "<matplotlib.axes._subplots.AxesSubplot at 0x7fabf315c198>"
            ]
          },
          "metadata": {
            "tags": []
          },
          "execution_count": 40
        },
        {
          "output_type": "display_data",
          "data": {
            "image/png": "[encoded data removed]",
            "text/plain": [
              "<Figure size 1080x288 with 2 Axes>"
            ]
          },
          "metadata": {
            "tags": []
          }
        }
      ]
    },
    {
      "cell_type": "markdown",
      "metadata": {
        "id": "QKbGtCxTJK45",
        "colab_type": "text"
      },
      "source": [
        "### Model Building"
      ]
    },
    {
      "cell_type": "code",
      "metadata": {
        "id": "yI72r95EClrR",
        "colab_type": "code",
        "colab": {}
      },
      "source": [
        "# import model library\n",
        "from sklearn.feature_extraction.text import CountVectorizer\n",
        "from sklearn.linear_model import LogisticRegression\n",
        "from sklearn.naive_bayes import BernoulliNB\n",
        "import xgboost as xgb\n",
        "from sklearn.ensemble import VotingClassifier\n",
        "\n",
        "# represent features in countvectorizer for job_type\n",
        "vectorizer_1 = CountVectorizer()\n",
        "vectorizer_1.fit(df_train_oversampled_jobtype.ngram_2)\n",
        "\n",
        "# split into test and train sets for job_type\n",
        "X_train_1, X_test_1, y_train_1, y_test_1 = train_test_split(df_train_oversampled_jobtype.ngram_2, df_train_oversampled_jobtype.job_type, test_size=0.35)\n",
        "\n",
        "# represent features in countvectorizer for category\n",
        "vectorizer_2 = CountVectorizer()\n",
        "vectorizer_2.fit(df_train_oversampled.ngram_2)\n",
        "\n",
        "# split into test and train sets for job_type\n",
        "X_train_2, X_test_2, y_train_2, y_test_2 = train_test_split(df_train_oversampled.ngram_2, df_train_oversampled.category, test_size=0.35)\n"
      ],
      "execution_count": 0,
      "outputs": []
    },
    {
      "cell_type": "code",
      "metadata": {
        "id": "2pFfIZYNA5Vi",
        "colab_type": "code",
        "outputId": "efab3211-d8ab-458d-b2a4-831263600971",
        "colab": {
          "base_uri": "https://localhost:8080/",
          "height": 615
        }
      },
      "source": [
        "# Build LogisticRegression Model\n",
        "\n",
        "lr_1 = LogisticRegression()\n",
        "lr_1.fit(vectorizer_1.transform(X_train_1), y_train_1)\n",
        "lr_2 = LogisticRegression()\n",
        "lr_2.fit(vectorizer_2.transform(X_train_2), y_train_2)\n",
        "\n",
        "print('Logistic Regression Score on Job Type: ', lr_1.score(vectorizer_1.transform(X_test_1), y_test_1))\n",
        "print('Logistic Regression Score on Category: ', lr_2.score(vectorizer_2.transform(X_test_2), y_test_2))\n",
        "\n",
        "y_1 = lr_1.predict(vectorizer_1.transform(X_test_1))\n",
        "print(\"classification report on job type: \", classification_report(y_test_1, y_1))\n",
        "\n",
        "y_2 = lr_2.predict(vectorizer_2.transform(X_test_2))\n",
        "print(\"classification report on job category: \", classification_report(y_test_2, y_2))\n",
        "\n",
        "\n",
        "# Build BernoulliNB Model\n",
        "#bnb_1 = BernoulliNB()\n",
        "#bnb_1.fit(vectorizer_1.transform(X_train_1), y_train_1)\n",
        "#bnb_2 = BernoulliNB()\n",
        "#bnb_2.fit(vectorizer_2.transform(X_train_2), y_train_2)\n",
        "\n",
        "#print('Naive Bayes Score for Job Type: ', bnb_1.score(vectorizer_1.transform(X_test_1), y_test_1))\n",
        "#print('Naive Bayes Score for Category: ', bnb_2.score(vectorizer.transform(X_test_2), y_test_2))\n",
        "\n",
        "# Build XGboost Model\n",
        "#xgb_model = xgb.XGBClassifier().fit(vectorizer.transform(X_train), y_train)\n",
        "\n",
        "#print('XGBoost Score: ', xgb_model.score(vectorizer.transform(X_test), y_test))"
      ],
      "execution_count": 0,
      "outputs": [
        {
          "output_type": "stream",
          "text": [
            "Logistic Regression Score on Job Type:  0.9984908849450682\n",
            "Logistic Regression Score on Category:  0.8106270170585523\n",
            "classification report on job type:                      precision    recall  f1-score   support\n",
            "\n",
            "               Any       1.00      1.00      1.00      5454\n",
            "  Contract/Interim       0.99      1.00      1.00      5565\n",
            "     Contract/Temp       1.00      1.00      1.00      5578\n",
            "         Part-Time       1.00      1.00      1.00      5430\n",
            "         Permanent       1.00      0.99      1.00      5494\n",
            "Temporary/Seasonal       1.00      1.00      1.00      5611\n",
            "\n",
            "          accuracy                           1.00     33132\n",
            "         macro avg       1.00      1.00      1.00     33132\n",
            "      weighted avg       1.00      1.00      1.00     33132\n",
            "\n",
            "classification report on job category:                                                precision    recall  f1-score   support\n",
            "\n",
            "                           Clinical Research       0.70      0.46      0.55      1591\n",
            "              Data Management and Statistics       0.80      0.95      0.87      1577\n",
            "                  Manufacturing & Operations       0.68      0.58      0.62      1581\n",
            "  Medical Affairs / Pharmaceutical Physician       0.92      0.99      0.96      1563\n",
            "   Medical Information and Pharmacovigilance       0.91      0.97      0.94      1549\n",
            "                    Pharmaceutical Marketing       0.81      0.91      0.86      1549\n",
            "Pharmaceutical, Healthcare and Medical Sales       0.89      0.82      0.85      1546\n",
            "                                    Pharmacy       1.00      1.00      1.00      1600\n",
            "                           Quality-assurance       0.80      0.96      0.87      1590\n",
            "                          Regulatory Affairs       0.69      0.84      0.76      1626\n",
            "                                     Science       0.64      0.44      0.52      1580\n",
            "\n",
            "                                    accuracy                           0.81     17352\n",
            "                                   macro avg       0.80      0.81      0.80     17352\n",
            "                                weighted avg       0.80      0.81      0.80     17352\n",
            "\n"
          ],
          "name": "stdout"
        }
      ]
    },
    {
      "cell_type": "code",
      "metadata": {
        "id": "NOClVS2GEW7f",
        "colab_type": "code",
        "colab": {}
      },
      "source": [
        "from sklearn.ensemble import VotingClassifier\n",
        "\n",
        "#create submodels\n",
        "estimators = []\n",
        "\n",
        "model1 = lr\n",
        "model2 = bnb\n",
        "model3 = xgb_model\n",
        "\n",
        "\n",
        "estimators.append(('logistic', model1))\n",
        "estimators.append(('bernoulli', model2))\n",
        "estimators.append(('xgboost', model3))\n",
        "\n",
        "\n",
        "# create ensemble model for job type\n",
        "ensemble_job_type = VotingClassifier(estimators).fit(vectorizer_1.transform(X_train_1), y_train_1)\n",
        "\n",
        "\n",
        "# create ensemble model for Category\n",
        "ensemble_category = VotingClassifier(estimators).fit(vectorizer_2.transform(X_train_2), y_train_2)\n"
      ],
      "execution_count": 0,
      "outputs": []
    },
    {
      "cell_type": "code",
      "metadata": {
        "id": "sFXCcxyVcUMf",
        "colab_type": "code",
        "outputId": "20ac7257-041b-4c7f-d942-0c7daab0be93",
        "colab": {
          "base_uri": "https://localhost:8080/",
          "height": 53
        }
      },
      "source": [
        "print('Ensemble Score for Job Type : ', ensemble_job_type.score(vectorizer_1.transform(X_test_1), y_test_1))\n",
        "print('Ensemble Score for Category : ', ensemble_category.score(vectorizer_2.transform(X_test_2), y_test_2))"
      ],
      "execution_count": 0,
      "outputs": [
        {
          "output_type": "stream",
          "text": [
            "Ensemble Score for Job Type :  0.9941634755050839\n",
            "Ensemble Score for Category :  0.7888154908980889\n"
          ],
          "name": "stdout"
        }
      ]
    },
    {
      "cell_type": "code",
      "metadata": {
        "id": "Ih-AtcE9GKnu",
        "colab_type": "code",
        "outputId": "f43df264-a74e-43df-84e3-c2abf33d21e0",
        "colab": {
          "base_uri": "https://localhost:8080/",
          "height": 197
        }
      },
      "source": [
        "# preprocessing test data\n",
        "test_corpus = text_preprocess(test.job_description)\n",
        "ngram_phraser_1 = models.Phrases(test_corpus, threshold=1)\n",
        "ngram_phraser_2 = models.Phrases(test_corpus, threshold=10)\n",
        "ngram_1 = models.phrases.Phraser(ngram_phraser_1)\n",
        "ngram_2 = models.phrases.Phraser(ngram_phraser_2)\n",
        "test_texts_1 = [ngram_1[token] for token in test_corpus]\n",
        "test_texts_2 = [ngram_2[token] for token in test_corpus]\n",
        "\n",
        "test_texts_1 = [' '.join(text) for text in test_texts_1]\n",
        "test_texts_2 = [' '.join(text) for text in test_texts_2]\n",
        "test['ngram_1'] = test_texts_1\n",
        "test['ngram_2'] = test_texts_2\n",
        "test.head()"
      ],
      "execution_count": 0,
      "outputs": [
        {
          "output_type": "execute_result",
          "data": {
            "text/html": [
              "<div>\n",
              "<style scoped>\n",
              "    .dataframe tbody tr th:only-of-type {\n",
              "        vertical-align: middle;\n",
              "    }\n",
              "\n",
              "    .dataframe tbody tr th {\n",
              "        vertical-align: top;\n",
              "    }\n",
              "\n",
              "    .dataframe thead th {\n",
              "        text-align: right;\n",
              "    }\n",
              "</style>\n",
              "<table border=\"1\" class=\"dataframe\">\n",
              "  <thead>\n",
              "    <tr style=\"text-align: right;\">\n",
              "      <th></th>\n",
              "      <th>job_no</th>\n",
              "      <th>job_description</th>\n",
              "      <th>ngram_1</th>\n",
              "      <th>ngram_2</th>\n",
              "    </tr>\n",
              "  </thead>\n",
              "  <tbody>\n",
              "    <tr>\n",
              "      <th>0</th>\n",
              "      <td>Id-1</td>\n",
              "      <td>SAS Statistical Programmer II. UK. SDTM. ADaM....</td>\n",
              "      <td>sas_statistical programmer sdtm_adam tfls clin...</td>\n",
              "      <td>sas statistical_programmer sdtm_adam tfls clin...</td>\n",
              "    </tr>\n",
              "    <tr>\n",
              "      <th>1</th>\n",
              "      <td>Id-2</td>\n",
              "      <td>Therapy Area: Respiratory\\r\\r\\r\\nPackage: Nego...</td>\n",
              "      <td>therapy_area respiratory_package negotiable_ba...</td>\n",
              "      <td>therapy_area respiratory package_negotiable ba...</td>\n",
              "    </tr>\n",
              "    <tr>\n",
              "      <th>2</th>\n",
              "      <td>Id-4</td>\n",
              "      <td>RBW consulting are working in partnership with...</td>\n",
              "      <td>rbw_consult work_partnership specialist_biomet...</td>\n",
              "      <td>rbw_consult work partnership specialist_biomet...</td>\n",
              "    </tr>\n",
              "    <tr>\n",
              "      <th>3</th>\n",
              "      <td>Id-6</td>\n",
              "      <td>One of my long term clients is currently look...</td>\n",
              "      <td>long_term client_currently look_experience med...</td>\n",
              "      <td>long_term client currently_look experience med...</td>\n",
              "    </tr>\n",
              "    <tr>\n",
              "      <th>4</th>\n",
              "      <td>Id-7</td>\n",
              "      <td>Unique package - Statistical Programmer - CRO\\...</td>\n",
              "      <td>unique_package statistical_programmer cro appr...</td>\n",
              "      <td>unique package statistical_programmer cro appr...</td>\n",
              "    </tr>\n",
              "  </tbody>\n",
              "</table>\n",
              "</div>"
            ],
            "text/plain": [
              "  job_no  ...                                            ngram_2\n",
              "0   Id-1  ...  sas statistical_programmer sdtm_adam tfls clin...\n",
              "1   Id-2  ...  therapy_area respiratory package_negotiable ba...\n",
              "2   Id-4  ...  rbw_consult work partnership specialist_biomet...\n",
              "3   Id-6  ...  long_term client currently_look experience med...\n",
              "4   Id-7  ...  unique package statistical_programmer cro appr...\n",
              "\n",
              "[5 rows x 4 columns]"
            ]
          },
          "metadata": {
            "tags": []
          },
          "execution_count": 51
        }
      ]
    },
    {
      "cell_type": "code",
      "metadata": {
        "id": "N5RYdJT0SL21",
        "colab_type": "code",
        "colab": {}
      },
      "source": [
        "#ensemble on test data\n",
        "ensemble_job_type.fit(vectorizer_1.transform(df_train_oversampled_jobtype.ngram_1), df_train_oversampled_jobtype.job_type)\n",
        "prediction_1 = ensemble_job_type.predict(vectorizer_1.transform(test.ngram_1))\n",
        "\n",
        "ensemble_category.fit(vectorizer_2.transform(df_train_oversampled.ngram_1), df_train_oversampled.category)\n",
        "prediction_2 = ensemble_category.predict(vectorizer_2.transform(test.ngram_1))\n",
        "\n",
        "submission = pd.DataFrame({'job_no':test.job_no, 'job_type':prediction_1, 'category':prediction_2})\n",
        "submission.to_csv('sample_submission.csv', index=False)\n",
        "submission.head()"
      ],
      "execution_count": 0,
      "outputs": []
    },
    {
      "cell_type": "code",
      "metadata": {
        "id": "GD5EWWB4hSkJ",
        "colab_type": "code",
        "outputId": "6c6b4066-f4d8-4b1a-8946-b5c147ba9cc3",
        "colab": {
          "base_uri": "https://localhost:8080/",
          "height": 197
        }
      },
      "source": [
        "submission.head()"
      ],
      "execution_count": 0,
      "outputs": [
        {
          "output_type": "execute_result",
          "data": {
            "text/html": [
              "<div>\n",
              "<style scoped>\n",
              "    .dataframe tbody tr th:only-of-type {\n",
              "        vertical-align: middle;\n",
              "    }\n",
              "\n",
              "    .dataframe tbody tr th {\n",
              "        vertical-align: top;\n",
              "    }\n",
              "\n",
              "    .dataframe thead th {\n",
              "        text-align: right;\n",
              "    }\n",
              "</style>\n",
              "<table border=\"1\" class=\"dataframe\">\n",
              "  <thead>\n",
              "    <tr style=\"text-align: right;\">\n",
              "      <th></th>\n",
              "      <th>job_no</th>\n",
              "      <th>job_type</th>\n",
              "      <th>category</th>\n",
              "    </tr>\n",
              "  </thead>\n",
              "  <tbody>\n",
              "    <tr>\n",
              "      <th>0</th>\n",
              "      <td>Id-1</td>\n",
              "      <td>Permanent</td>\n",
              "      <td>Data Management and Statistics</td>\n",
              "    </tr>\n",
              "    <tr>\n",
              "      <th>1</th>\n",
              "      <td>Id-2</td>\n",
              "      <td>Permanent</td>\n",
              "      <td>Pharmaceutical, Healthcare and Medical Sales</td>\n",
              "    </tr>\n",
              "    <tr>\n",
              "      <th>2</th>\n",
              "      <td>Id-4</td>\n",
              "      <td>Permanent</td>\n",
              "      <td>Data Management and Statistics</td>\n",
              "    </tr>\n",
              "    <tr>\n",
              "      <th>3</th>\n",
              "      <td>Id-6</td>\n",
              "      <td>Permanent</td>\n",
              "      <td>Pharmaceutical Marketing</td>\n",
              "    </tr>\n",
              "    <tr>\n",
              "      <th>4</th>\n",
              "      <td>Id-7</td>\n",
              "      <td>Permanent</td>\n",
              "      <td>Clinical Research</td>\n",
              "    </tr>\n",
              "  </tbody>\n",
              "</table>\n",
              "</div>"
            ],
            "text/plain": [
              "  job_no   job_type                                      category\n",
              "0   Id-1  Permanent                Data Management and Statistics\n",
              "1   Id-2  Permanent  Pharmaceutical, Healthcare and Medical Sales\n",
              "2   Id-4  Permanent                Data Management and Statistics\n",
              "3   Id-6  Permanent                      Pharmaceutical Marketing\n",
              "4   Id-7  Permanent                             Clinical Research"
            ]
          },
          "metadata": {
            "tags": []
          },
          "execution_count": 62
        }
      ]
    },
    {
      "cell_type": "code",
      "metadata": {
        "id": "IN-vQAQBzL46",
        "colab_type": "code",
        "outputId": "dfb94f3e-5cb3-4aa4-b42f-3088535e5ade",
        "colab": {
          "base_uri": "https://localhost:8080/",
          "height": 197
        }
      },
      "source": [
        "#logistic on test data\n",
        "lr_1.fit(vectorizer_1.transform(df_train_oversampled_jobtype.ngram_2), df_train_oversampled_jobtype.job_type)\n",
        "prediction_1 = lr_1.predict(vectorizer_1.transform(test.ngram_2))\n",
        "\n",
        "lr_2.fit(vectorizer_2.transform(df_train_oversampled.ngram_2), df_train_oversampled.category)\n",
        "prediction_2 = lr_2.predict(vectorizer_2.transform(test.ngram_2))\n",
        "\n",
        "submission = pd.DataFrame({'job_no':test.job_no, 'job_type':prediction_1, 'category':prediction_2})\n",
        "submission.to_csv('sample_submission_lr_3rd.csv', index=False)\n",
        "submission.head()"
      ],
      "execution_count": 0,
      "outputs": [
        {
          "output_type": "execute_result",
          "data": {
            "text/html": [
              "<div>\n",
              "<style scoped>\n",
              "    .dataframe tbody tr th:only-of-type {\n",
              "        vertical-align: middle;\n",
              "    }\n",
              "\n",
              "    .dataframe tbody tr th {\n",
              "        vertical-align: top;\n",
              "    }\n",
              "\n",
              "    .dataframe thead th {\n",
              "        text-align: right;\n",
              "    }\n",
              "</style>\n",
              "<table border=\"1\" class=\"dataframe\">\n",
              "  <thead>\n",
              "    <tr style=\"text-align: right;\">\n",
              "      <th></th>\n",
              "      <th>job_no</th>\n",
              "      <th>job_type</th>\n",
              "      <th>category</th>\n",
              "    </tr>\n",
              "  </thead>\n",
              "  <tbody>\n",
              "    <tr>\n",
              "      <th>0</th>\n",
              "      <td>Id-1</td>\n",
              "      <td>Permanent</td>\n",
              "      <td>Data Management and Statistics</td>\n",
              "    </tr>\n",
              "    <tr>\n",
              "      <th>1</th>\n",
              "      <td>Id-2</td>\n",
              "      <td>Permanent</td>\n",
              "      <td>Pharmaceutical, Healthcare and Medical Sales</td>\n",
              "    </tr>\n",
              "    <tr>\n",
              "      <th>2</th>\n",
              "      <td>Id-4</td>\n",
              "      <td>Permanent</td>\n",
              "      <td>Data Management and Statistics</td>\n",
              "    </tr>\n",
              "    <tr>\n",
              "      <th>3</th>\n",
              "      <td>Id-6</td>\n",
              "      <td>Permanent</td>\n",
              "      <td>Pharmaceutical Marketing</td>\n",
              "    </tr>\n",
              "    <tr>\n",
              "      <th>4</th>\n",
              "      <td>Id-7</td>\n",
              "      <td>Permanent</td>\n",
              "      <td>Data Management and Statistics</td>\n",
              "    </tr>\n",
              "  </tbody>\n",
              "</table>\n",
              "</div>"
            ],
            "text/plain": [
              "  job_no   job_type                                      category\n",
              "0   Id-1  Permanent                Data Management and Statistics\n",
              "1   Id-2  Permanent  Pharmaceutical, Healthcare and Medical Sales\n",
              "2   Id-4  Permanent                Data Management and Statistics\n",
              "3   Id-6  Permanent                      Pharmaceutical Marketing\n",
              "4   Id-7  Permanent                Data Management and Statistics"
            ]
          },
          "metadata": {
            "tags": []
          },
          "execution_count": 77
        }
      ]
    },
    {
      "cell_type": "code",
      "metadata": {
        "id": "DJq9tS9iDAf2",
        "colab_type": "code",
        "colab": {}
      },
      "source": [
        ""
      ],
      "execution_count": 0,
      "outputs": []
    }
  ]
}