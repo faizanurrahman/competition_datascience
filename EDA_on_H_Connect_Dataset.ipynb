{
  "nbformat": 4,
  "nbformat_minor": 0,
  "metadata": {
    "kernelspec": {
      "display_name": "Python [conda env:PyConda] *",
      "language": "python",
      "name": "conda-env-PyConda-py"
    },
    "language_info": {
      "codemirror_mode": {
        "name": "ipython",
        "version": 3
      },
      "file_extension": ".py",
      "mimetype": "text/x-python",
      "name": "python",
      "nbconvert_exporter": "python",
      "pygments_lexer": "ipython3",
      "version": "3.7.5"
    },
    "colab": {
      "name": "EDA on H-Connect Dataset.ipynb",
      "provenance": [],
      "include_colab_link": true
    }
  },
  "cells": [
    {
      "cell_type": "markdown",
      "metadata": {
        "id": "view-in-github",
        "colab_type": "text"
      },
      "source": [
        "<a href=\"https://colab.research.google.com/github/faizanurrahman/temp_data/blob/master/EDA_on_H_Connect_Dataset.ipynb\" target=\"_parent\"><img src=\"https://colab.research.google.com/assets/colab-badge.svg\" alt=\"Open In Colab\"/></a>"
      ]
    },
    {
      "cell_type": "markdown",
      "metadata": {
        "id": "zTt2XLUBt0Rx",
        "colab_type": "text"
      },
      "source": [
        "## Problem Statement And Understanding\n",
        "\n",
        "Health Care Connect, or H-Connect, is a Job search plateform, which provide intelligent sevices to make recuriment process batter for everyone. This time H-Connect want to build a new feature in his plateform that can help recruiters suggest a job type and job category based on job description. \n",
        "\n",
        "In this, H-Connect provides a Dataset which contain job description, job type, and job category based on this we have to build a model which predict the job type and job category based on job description. Let's dive into dataset and make some useful insite.\n"
      ]
    },
    {
      "cell_type": "code",
      "metadata": {
        "id": "7LXwacNut0R1",
        "colab_type": "code",
        "colab": {}
      },
      "source": [
        "# import libraries\n",
        "import pandas as pd\n",
        "import numpy as np\n",
        "import matplotlib.pyplot as plt\n",
        "import seaborn as sns\n",
        "from gensim import corpora, models, similarities\n",
        "# function to clean and lemmatize text and remove stopwords\n",
        "from gensim.parsing.preprocessing import preprocess_string\n",
        "from gensim.parsing.preprocessing import strip_tags, strip_punctuation, strip_numeric\n",
        "from gensim.parsing.preprocessing import strip_multiple_whitespaces, strip_non_alphanum, remove_stopwords, strip_short\n",
        "import nltk\n",
        "from nltk.corpus import stopwords\n",
        "from nltk import word_tokenize, pos_tag, ne_chunk\n",
        "from nltk.chunk import conlltags2tree, tree2conlltags\n",
        "from nltk.stem.wordnet import WordNetLemmatizer\n",
        "import re\n",
        "#nltk.download('stopwords')\n",
        "#nltk.download('wordnet')\n",
        "#nltk.download('words')\n",
        "#nltk.download('averaged_perceptron_tagger')\n",
        "#nltk.download('punkt')\n",
        "#nltk.download('maxent_ne_chunker')\n",
        "\n",
        "\n",
        "\n",
        "# setting up default plotting parameters\n",
        "%matplotlib inline\n",
        "\n",
        "#plt.rcParams['figure.figsize'] = [20.0, 7.0]\n",
        "plt.rcParams.update({'font.size': 22,})\n",
        "\n",
        "sns.set_palette('viridis')\n",
        "sns.set_style('white')\n",
        "sns.set_context('talk', font_scale=0.8)\n",
        "\n",
        "\n",
        "# ignore warnings\n",
        "import warnings\n",
        "warnings.filterwarnings('ignore')"
      ],
      "execution_count": 0,
      "outputs": []
    },
    {
      "cell_type": "markdown",
      "metadata": {
        "id": "9dRFuLQ5t0R4",
        "colab_type": "text"
      },
      "source": [
        "### Data Understanding and Exploration"
      ]
    },
    {
      "cell_type": "code",
      "metadata": {
        "id": "RpIGYseNt0R5",
        "colab_type": "code",
        "outputId": "a5348c5e-3960-42e6-b7d5-5e461caca443",
        "colab": {}
      },
      "source": [
        "# Read in the train and test file\n",
        "train = pd.read_csv('./DataSet/train.csv')\n",
        "test = pd.read_csv('./DataSet/test.csv')\n",
        "sample_submission = pd.read_csv('./DataSet/sample_submission.csv')\n",
        "train.head(2)\n"
      ],
      "execution_count": 0,
      "outputs": [
        {
          "output_type": "execute_result",
          "data": {
            "text/html": [
              "<div>\n",
              "<style scoped>\n",
              "    .dataframe tbody tr th:only-of-type {\n",
              "        vertical-align: middle;\n",
              "    }\n",
              "\n",
              "    .dataframe tbody tr th {\n",
              "        vertical-align: top;\n",
              "    }\n",
              "\n",
              "    .dataframe thead th {\n",
              "        text-align: right;\n",
              "    }\n",
              "</style>\n",
              "<table border=\"1\" class=\"dataframe\">\n",
              "  <thead>\n",
              "    <tr style=\"text-align: right;\">\n",
              "      <th></th>\n",
              "      <th>job_no</th>\n",
              "      <th>job_description</th>\n",
              "      <th>job_type</th>\n",
              "      <th>category</th>\n",
              "    </tr>\n",
              "  </thead>\n",
              "  <tbody>\n",
              "    <tr>\n",
              "      <th>0</th>\n",
              "      <td>Id-12765</td>\n",
              "      <td>Zest Scientific is searching for an accomplis...</td>\n",
              "      <td>Permanent</td>\n",
              "      <td>Pharmaceutical, Healthcare and Medical Sales</td>\n",
              "    </tr>\n",
              "    <tr>\n",
              "      <th>1</th>\n",
              "      <td>Id-22925</td>\n",
              "      <td>En el mundo de los CRO's típicos, esta compañí...</td>\n",
              "      <td>Permanent</td>\n",
              "      <td>Clinical Research</td>\n",
              "    </tr>\n",
              "  </tbody>\n",
              "</table>\n",
              "</div>"
            ],
            "text/plain": [
              "     job_no                                    job_description   job_type  \\\n",
              "0  Id-12765   Zest Scientific is searching for an accomplis...  Permanent   \n",
              "1  Id-22925  En el mundo de los CRO's típicos, esta compañí...  Permanent   \n",
              "\n",
              "                                       category  \n",
              "0  Pharmaceutical, Healthcare and Medical Sales  \n",
              "1                             Clinical Research  "
            ]
          },
          "metadata": {
            "tags": []
          },
          "execution_count": 2
        }
      ]
    },
    {
      "cell_type": "code",
      "metadata": {
        "id": "GwQpme8Ft0R-",
        "colab_type": "code",
        "outputId": "df186efd-98a0-416d-94d8-33e63df40d52",
        "colab": {}
      },
      "source": [
        "# Size of Dataset's\n",
        "print(f\"Train Data Shape: {train.shape}\")\n",
        "print(f\"\\nTest Data Shape: {test.shape}\")\n"
      ],
      "execution_count": 0,
      "outputs": [
        {
          "output_type": "stream",
          "text": [
            "Train Data Shape: (17657, 5)\n",
            "\n",
            "Test Data Shape: (11771, 2)\n"
          ],
          "name": "stdout"
        }
      ]
    },
    {
      "cell_type": "code",
      "metadata": {
        "id": "EQLkEhqSt0SA",
        "colab_type": "code",
        "outputId": "6abc1b38-4175-49db-9ec0-89ec247cd98a",
        "colab": {}
      },
      "source": [
        "# Check class distribution\n",
        "fig = plt.figure(figsize=(10, 5))\n",
        "ax1 = fig.add_subplot(121)\n",
        "ax2 = fig.add_subplot(122)\n",
        "train.category.value_counts().plot(kind='bar', title='Count (category)', ax=ax1)\n",
        "train.job_type.value_counts().plot(kind='bar', title='Count (job_type)', ax=ax2)"
      ],
      "execution_count": 0,
      "outputs": [
        {
          "output_type": "execute_result",
          "data": {
            "text/plain": [
              "<matplotlib.axes._subplots.AxesSubplot at 0xc21d850>"
            ]
          },
          "metadata": {
            "tags": []
          },
          "execution_count": 11
        },
        {
          "output_type": "display_data",
          "data": {
            "image/png": "[encoded data removed]",
            "text/plain": [
              "<Figure size 720x360 with 2 Axes>"
            ]
          },
          "metadata": {
            "tags": []
          }
        }
      ]
    },
    {
      "cell_type": "code",
      "metadata": {
        "id": "KEcShXAMt0SD",
        "colab_type": "code",
        "outputId": "ea3cf297-0c1b-43ea-b286-f118db41cd77",
        "colab": {}
      },
      "source": [
        "# Concatenate target variables in one columns\n",
        "train['target'] = train[['job_type', 'category']].apply(lambda x: ', '.join(x[x.notnull()]), axis = 1)\n",
        "counts = train['target'].value_counts()\n",
        "print(counts)"
      ],
      "execution_count": 0,
      "outputs": [
        {
          "output_type": "stream",
          "text": [
            "Permanent, Pharmaceutical, Healthcare and Medical Sales             4187\n",
            "Permanent, Clinical Research                                        2854\n",
            "Permanent, Science                                                  2635\n",
            "Permanent, Manufacturing & Operations                               1841\n",
            "Permanent, Pharmaceutical Marketing                                 1025\n",
            "Permanent, Regulatory Affairs                                       1022\n",
            "Permanent, Data Management and Statistics                            693\n",
            "Permanent, Quality-assurance                                         553\n",
            "Permanent, Medical Information and Pharmacovigilance                 507\n",
            "Permanent, Medical Affairs / Pharmaceutical Physician                434\n",
            "Contract/Interim, Manufacturing & Operations                         321\n",
            "Contract/Interim, Pharmaceutical, Healthcare and Medical Sales       301\n",
            "Contract/Interim, Clinical Research                                  218\n",
            "Contract/Interim, Science                                            201\n",
            "Contract/Interim, Data Management and Statistics                     116\n",
            "Contract/Interim, Quality-assurance                                  100\n",
            "Contract/Interim, Regulatory Affairs                                  93\n",
            "Contract/Temp, Science                                                67\n",
            "Contract/Temp, Clinical Research                                      65\n",
            "Contract/Temp, Manufacturing & Operations                             47\n",
            "Contract/Temp, Regulatory Affairs                                     39\n",
            "Contract/Interim, Pharmaceutical Marketing                            32\n",
            "Contract/Interim, Medical Information and Pharmacovigilance           28\n",
            "Permanent, Pharmacy                                                   26\n",
            "Contract/Temp, Quality-assurance                                      26\n",
            "Temporary/Seasonal, Science                                           25\n",
            "Contract/Temp, Medical Information and Pharmacovigilance              23\n",
            "Temporary/Seasonal, Manufacturing & Operations                        22\n",
            "Temporary/Seasonal, Quality-assurance                                 20\n",
            "Contract/Temp, Medical Affairs / Pharmaceutical Physician             20\n",
            "Any, Clinical Research                                                15\n",
            "Temporary/Seasonal, Clinical Research                                 13\n",
            "Part-Time, Pharmaceutical, Healthcare and Medical Sales               13\n",
            "Contract/Temp, Data Management and Statistics                         13\n",
            "Temporary/Seasonal, Pharmaceutical Marketing                          13\n",
            "Temporary/Seasonal, Regulatory Affairs                                 9\n",
            "Temporary/Seasonal, Data Management and Statistics                     7\n",
            "Part-Time, Clinical Research                                           7\n",
            "Contract/Interim, Medical Affairs / Pharmaceutical Physician           4\n",
            "Contract/Temp, Pharmaceutical, Healthcare and Medical Sales            4\n",
            "Any, Quality-assurance                                                 4\n",
            "Any, Manufacturing & Operations                                        4\n",
            "Temporary/Seasonal, Medical Information and Pharmacovigilance          3\n",
            "Part-Time, Science                                                     3\n",
            "Any, Science                                                           1\n",
            "Any, Pharmaceutical, Healthcare and Medical Sales                      1\n",
            "Temporary/Seasonal, Pharmaceutical, Healthcare and Medical Sales       1\n",
            "Contract/Temp, Pharmaceutical Marketing                                1\n",
            "Name: target, dtype: int64\n"
          ],
          "name": "stdout"
        }
      ]
    },
    {
      "cell_type": "code",
      "metadata": {
        "id": "EIgxAJ1tt0SG",
        "colab_type": "code",
        "colab": {}
      },
      "source": [
        "# Create two sample of data\n",
        "train_1 = train[~train['target'].isin(counts[counts<100].index)]\n",
        "train_2 = train[train['target'].isin(counts[counts<100].index)]"
      ],
      "execution_count": 0,
      "outputs": []
    },
    {
      "cell_type": "markdown",
      "metadata": {
        "id": "bqr4OQOht0SJ",
        "colab_type": "text"
      },
      "source": [
        "Text classification with very high accuracy rates are possible (north of 95%) but to acheive those you need to do a lot of text preprocessing before you run your machine learning models.\n",
        "\n",
        "The key challenge with text processing is to process the text in a suffecient manner that the algorithm of choice is able to detect enough structure within the text decipher a neat signal.\n",
        "\n",
        "The following helps\n",
        "\n",
        "Word removal-experiment with word removals both in high frequency and low frequency space\n",
        "Taxonomy- Ordered heirarchial taxonomy can help you reduce entropy in content. Similar to what decision trees accomplish. This is SUPER unappreciated in most text analytics literature\n",
        "Lemmatization. _ it sometimes helps improve structure of text\n",
        "Sampling - Are your classes balanced? if not resample, create synthetic data to populate low frequency classes\n",
        "ensemble/boosting/bagging methods- Have you tried meta algos to improve your performance?\n",
        "Data Quality check- Good data is like good food. Have you checked if you have any useless data? pruning data set helps improve structure a lot!\n",
        "Hyper Parameter tuning- Did you exhaustively search the subspaces to fine tune the model. Most models show upto 10% improvement by just hyperparameter tuning.\n",
        "Word Gram conversion- you can improve feature set by converting important bigrams and trigrams into unigrams \"food processing\" can be changed to \"food_processing\"\n",
        "Data preparation- Count vectors, tf-idf, word2vec .. et al.. Naive bayes seems to work better Count vectors,\n",
        "Sample length- This is a quirk i noticed in text mining. if you are classifying sentences ranging from few words to lets say a paragraph. With more additional words algos like naive bayes dont work well due lack of convergence arising from positive hits they get from all words for more that one class to put it naively (pun intended :P)\n",
        "Last point I can think is instead of getting class assignment get class probabilities and use that itself a feature in your ensembles. It seems to work in a variety of cases."
      ]
    },
    {
      "cell_type": "code",
      "metadata": {
        "id": "trHl27P1t0SK",
        "colab_type": "code",
        "colab": {}
      },
      "source": [
        "from string import punctuation\n",
        "def preprocess_string(s):\n",
        "    \n",
        "    global punctuation\n",
        "    global en_stopwords\n",
        "    # some problems with the way Job Description has been encoded to utf-8\n",
        "    s = str(s)\n",
        "    \n",
        "    # Remove Punctuations\n",
        "    for p in punctuation:\n",
        "        s = s.replace(p, '')\n",
        "\n",
        "    # Remove the urls first - Anything that has .com, .co.uk or www. is a url!\n",
        "    s = re.sub('[^\\s]*.com[^\\s]*', \"\", s)\n",
        "    s = re.sub('[^\\s]*www.[^\\s]*', \"\", s)\n",
        "    s = re.sub('[^\\s]*.co.uk[^\\s]*', \"\", s)\n",
        "\n",
        "    # Removed Numbers\n",
        "    s = re.sub('[^\\s]*[0-9]+[^\\s]*', \"\", s)\n",
        "\n",
        "    # Remove special Charecter\n",
        "    s = re.sub('[^\\s]*[\\*]+[^\\s]*', \"\", s)\n",
        "    s = re.sub(r'\\([^)]*\\)', '', s)\n",
        "\n",
        "    # Convert to lower\n",
        "    s = s.lower()\n",
        "    \n",
        "    # tockenize text\n",
        "    s = nltk.word_tokenize(s)\n",
        "\n",
        "    # lemmatize and remove stopword\n",
        "    s = \" \".join([lmtzr.lemmatize(token) for token in s if token not in en_stopwords])\n",
        "\n",
        "    # part-of-speech tagger\n",
        "    s = nltk.pos_tag(s)\n",
        "    \n",
        "    # document label categorizer \n",
        "    pattern = 'NP: {<DT>?<JJ>*<NN>}'\n",
        "    cp = nltk.RegexpParser(pattern)\n",
        "    cs = cp.parse(s)\n",
        "    iob_tagged = tree2conlltags(cs)\n",
        "    s = \"\".join([word for word, pos, ner in iob_tagged])\n",
        "\n",
        "    return s\n",
        "\n"
      ],
      "execution_count": 0,
      "outputs": []
    },
    {
      "cell_type": "code",
      "metadata": {
        "id": "rWPMJyWCt0SN",
        "colab_type": "code",
        "outputId": "43a5388a-f248-4c78-b776-031b23546233",
        "colab": {}
      },
      "source": [
        "lmtzr = WordNetLemmatizer()\n",
        "en_stopwords = stopwords.words('english')\n",
        "add_words =['su', 'de', 'la','de', 'et', 'un', 'le', 'und', 'y','la', 'en', 'el', 'una', 'es']\n",
        "en_stopwords.extend(add_words)\n",
        "print(\"text processng start: \")\n",
        "%time train['clean_job_description'] = train['job_description'].map(preprocess_string)\n",
        "print(\"train data processed: \")\n",
        "%time test['clean_job_description'] = test['job_description'].map(preprocess_string)\n",
        "print(\"test data processed: \")\n",
        "\n",
        "train.to_csv('./Dataset/clean_train.csv', index = False)\n",
        "test.to_csv('./Dataset/clean_test.csv', index = False)\n",
        "print(\"finished: \")"
      ],
      "execution_count": 0,
      "outputs": [
        {
          "output_type": "stream",
          "text": [
            "text processng start: \n",
            "Wall time: 58min 54s\n",
            "train data processed: \n",
            "Wall time: 39min 47s\n",
            "test data processed: \n",
            "finished: \n"
          ],
          "name": "stdout"
        }
      ]
    },
    {
      "cell_type": "code",
      "metadata": {
        "id": "7m6SNM3Tt0SQ",
        "colab_type": "code",
        "outputId": "5d73f298-4cee-43f7-a273-b2220a9ee252",
        "colab": {}
      },
      "source": [
        ""
      ],
      "execution_count": 0,
      "outputs": [
        {
          "output_type": "stream",
          "text": [
            "hi\n",
            "Wall time: 0 ns\n",
            "hik\n",
            "Wall time: 0 ns\n"
          ],
          "name": "stdout"
        }
      ]
    },
    {
      "cell_type": "code",
      "metadata": {
        "id": "hPP47bUpt0ST",
        "colab_type": "code",
        "outputId": "d90647c1-297a-4b03-8745-e54c3b56e51f",
        "colab": {}
      },
      "source": [
        "# create ngrams\n",
        "ngram_phraser = models.Phrases(train.clean_job_description.values, threshold=1)\n",
        "ngram = models.phrases.Phraser(ngram_phraser)\n",
        "#print example\n",
        "print(ngram[train.clean_job_description[0]])\n",
        "\n",
        "# apply model to corpus\n",
        "texts = [ngram[token] for token in train.clean_job_description]\n",
        "\n",
        "# preparing ngrams for modeling\n",
        "texts = [''.join(text) for text in texts]\n",
        "train['ngrams'] = texts"
      ],
      "execution_count": 0,
      "outputs": [
        {
          "output_type": "stream",
          "text": [
            "['z', 'e', 's', 't', ' ', 's', 'c', 'i', 'e', 'n', 't', 'i', 'f', 'i', 'c', ' ', 's', 'e', 'a', 'r', 'c', 'h', 'i', 'n', 'g', ' ', 's', 'c', 'i', 'e', 'n', 't', 'i', 'f', 'i', 'c', ' ', 's', 'a', 'l', 'e', ' ', 'p', 'r', 'o', 'f', 'e', 's', 's', 'i', 'o', 'n', 'a', 'l', ' ', 'n', 'e', 't', 'h', 'e', 'r', 'l', 'a', 'n', 'd', 's', ' ', 't', 'e', 'r', 'r', 'i', 't', 'o', 'r', 'y', ' ', 'p', 'l', 'a', 'y', ' ', 'p', 'i', 'v', 'o', 't', 'a', 'l', ' ', 'r', 'o', 'l', 'e', ' ', 'i', 'n', 'c', 'r', 'e', 'a', 's', 'e', ' ', 'p', 'r', 'e', 's', 'e', 'n', 'c', 'e', ' ', 'a', 'c', 'r', 'o', 's', 's', ' ', 'e', 'u', 'r', 'o', 'p', 'e', ' ', 'p', 'r', 'e', 's', 'e', 'n', 't', 'i', 'n', 'g', ' ', 'w', 'e', 'a', 'l', 't', 'h', ' ', 'u', 'n', 't', 'a', 'p', 'p', 'e', 'd', ' ', 'p', 'o', 't', 'e', 'n', 't', 'i', 'a', 'l', ' ', 'c', 'l', 'i', 'e', 'n', 't', ' ', 'i', 'n', 't', 'e', 'r', 'n', 'a', 't', 'i', 'o', 'n', 'a', 'l', 'l', 'y', ' ', 'r', 'e', 'c', 'o', 'g', 'n', 'i', 'z', 'e', 'd', ' ', 'p', 'r', 'o', 'v', 'i', 'd', 'i', 'n', 'g', ' ', 'b', 'e', 's', 't', ' ', 'c', 'l', 'a', 's', 's', ' ', 's', 'o', 'l', 'u', 't', 'i', 'o', 'n', ' ', 'r', 'e', 'g', 'i', 'o', 'n', ' ', 'p', 'r', 'o', 'v', 'i', 'd', 'e', 's', ' ', 'e', 'x', 'c', 'e', 'l', 'l', 'e', 'n', 't', ' ', 'g', 'r', 'o', 'w', 't', 'h', ' ', 'o', 'p', 'p', 'o', 'r', 't', 'u', 'n', 'i', 't', 'y', ' ', 'm', 'o', 't', 'i', 'v', 'a', 't', 'e', 'd', ' ', 'e', 'n', 't', 'r', 'e', 'p', 'r', 'e', 'n', 'e', 'u', 'r', 'i', 'a', 'l', ' ', 't', 'e', 'c', 'h', 'n', 'i', 'c', 'a', 'l', ' ', 's', 'a', 'l', 'e', ' ', 's', 'p', 'e', 'c', 'i', 'a', 'l', 'i', 's', 't', ' ', 'h', 'i', 'g', 'h', 'l', 'y', ' ', 'a', 'u', 't', 'o', 'n', 'o', 'm', 'o', 'u', 's', ' ', 'r', 'o', 'l', 'e', ' ', 'i', 'n', 'p', 'u', 't', ' ', 'e', 'n', 'c', 'o', 'u', 'r', 'a', 'g', 'e', 'd', ' ', 'p', 'r', 'o', 'v', 'i', 'd', 'e', 'd', ' ', 'p', 'l', 'a', 't', 'f', 'o', 'r', 'm', ' ', 'i', 'm', 'p', 'l', 'e', 'm', 'e', 'n', 't', ' ', 's', 'e', 'l', 'l', 'i', 'n', 'g', ' ', 'm', 'e', 't', 'h', 'o', 'd', ' ', 'b', 'u', 's', 'i', 'n', 'e', 's', 's', ' ', 'p', 'l', 'a', 'n', ' ', 'c', 'a', 'n', 'd', 'i', 'd', 'a', 't', 'e', ' ', 'd', 'e', 'm', 'o', 'n', 's', 't', 'r', 'a', 't', 'e', ' ', 's', 'u', 'c', 'c', 'e', 's', 's', 'f', 'u', 'l', ' ', 't', 'r', 'a', 'c', 'k', ' ', 'r', 'e', 'c', 'o', 'r', 'd', ' ', 's', 'e', 'l', 'l', 'i', 'n', 'g', ' ', 'a', 'c', 'a', 'd', 'e', 'm', 'i', 'c', ' ', 'r', 'e', 's', 'e', 'a', 'r', 'c', 'h', ' ', 'c', 'l', 'i', 'n', 'i', 'c', 'a', 'l', ' ', 'd', 'i', 'a', 'g', 'n', 'o', 's', 't', 'i', 'c', 's', ' ', 'h', 'o', 's', 'p', 'i', 't', 'a', 'l', ' ', 'l', 'a', 'b', 'o', 'r', 'a', 't', 'o', 'r', 'y', ' ', 'b', 'i', 'o', 't', 'e', 'c', 'h', ' ', 'a', 'c', 'c', 'o', 'u', 'n', 't', ' ', 'a', 'b', 'i', 'l', 'i', 't', 'y', ' ', 'l', 'e', 'a', 'r', 'n', ' ', 'n', 'e', 'w', ' ', 's', 'c', 'i', 'e', 'n', 't', 'i', 'f', 'i', 'c', ' ', 'c', 'o', 'n', 'c', 'e', 'p', 't', ' ', 'r', 'e', 'q', 'u', 'i', 'r', 'e', 'd', ' ', 't', 'a', 'k', 'e', ' ', 'h', 'a', 'n', 'd', ' ', 'a', 'p', 'p', 'r', 'o', 'a', 'c', 'h', ' ', 's', 'u', 'p', 'p', 'o', 'r', 't', 'i', 'n', 'g', ' ', 'c', 'u', 's', 't', 'o', 'm', 'e', 'r', ' ', 's', 't', 'a', 'g', 'e', ' ', 's', 'a', 'l', 'e', ' ', 'p', 'r', 'o', 'c', 'e', 's', 's', ' ', 'i', 'n', 'd', 'e', 'p', 'e', 'n', 'd', 'e', 'n', 't', ' ', 'w', 'o', 'r', 'k', 'i', 'n', 'g', ' ', 'l', 'i', 'm', 'i', 't', 'e', 'd', ' ', 's', 'u', 'p', 'p', 'o', 'r', 't', ' ', 'e', 'n', 't', 'e', 'r', 'p', 'r', 'i', 's', 'i', 'n', 'g', ' ', 'w', 'i', 'l', 'l', 'i', 'n', 'g', 'n', 'e', 's', 's', ' ', 'e', 'x', 'c', 'e', 'e', 'd', ' ', 'c', 'u', 's', 't', 'o', 'm', 'e', 'r', ' ', 'e', 'x', 'p', 'e', 'c', 't', 'a', 't', 'i', 'o', 'n', ' ', 'e', 'x', 'c', 'e', 'l', 'l', 'e', 'n', 't', ' ', 'r', 'e', 'l', 'a', 't', 'i', 'o', 'n', 's', 'h', 'i', 'p', ' ', 'b', 'u', 'i', 'l', 'd', 'e', 'r', ' ', 'f', 'i', 'r', 's', 't', ' ', 'r', 'o', 'l', 'e', ' ', 'r', 'e', 's', 'p', 'o', 'n', 's', 'i', 'b', 'l', 'e', ' ', 'd', 'e', 'l', 'i', 'v', 'e', 'r', 'i', 'n', 'g', ' ', 'a', 'n', 'n', 'u', 'a', 'l', ' ', 's', 'a', 'l', 'e', ' ', 'p', 'l', 'a', 'n', ' ', 'd', 'e', 'v', 'e', 'l', 'o', 'p', 'i', 'n', 'g', ' ', 'e', 'x', 'i', 's', 't', 'i', 'n', 'g', ' ', 'k', 'e', 'y', ' ', 'a', 'c', 'c', 'o', 'u', 'n', 't', ' ', 's', 't', 'r', 'a', 't', 'e', 'g', 'i', 'c', 'a', 'l', 'l', 'y', ' ', 'i', 'd', 'e', 'n', 't', 'i', 'f', 'y', 'i', 'n', 'g', ' ', 'n', 'e', 'w', ' ', 'd', 'e', 'v', 'e', 'l', 'o', 'p', 'm', 'e', 'n', 't', ' ', 'o', 'p', 'p', 'o', 'r', 't', 'u', 'n', 'i', 't', 'y', ' ', 'w', 'i', 't', 'h', 'i', 'n', ' ', 'c', 'l', 'i', 'n', 'i', 'c', 'a', 'l', ' ', 'd', 'i', 'a', 'g', 'n', 'o', 's', 't', 'i', 'c', 's', ' ', 'l', 'a', 'b', 'o', 'r', 'a', 't', 'o', 'r', 'y', ' ', 'c', 'l', 'i', 'n', 'i', 'c', 'a', 'l', ' ', 'c', 'h', 'e', 'm', 'i', 's', 't', 'r', 'y', ' ', 't', 'a', 'r', 'g', 'e', 't', 'i', 'n', 'g', ' ', 'h', 'i', 'g', 'h', ' ', 'v', 'a', 'l', 'u', 'e', ' ', 'p', 'o', 't', 'e', 'n', 't', 'i', 'a', 'l', ' ', 'c', 'u', 's', 't', 'o', 'm', 'e', 'r', ' ', 'l', 'e', 'v', 'e', 'r', 'a', 'g', 'i', 'n', 'g', ' ', 'i', 'n', 'f', 'l', 'u', 'e', 'n', 'c', 'e', ' ', 'w', 'i', 't', 'h', 'i', 'n', ' ', 'e', 'x', 'i', 's', 't', 'i', 'n', 'g', ' ', 'a', 'c', 'c', 'o', 'u', 'n', 't', ' ', 'h', 'i', 'g', 'h', ' ', 'd', 'e', 'g', 'r', 'e', 'e', ' ', 'a', 'u', 't', 'o', 'n', 'o', 'm', 'y', ' ', 'l', 'i', 'm', 'i', 't', 'e', 'd', ' ', 'd', 'i', 'r', 'e', 'c', 't', ' ', 'm', 'a', 'n', 'a', 'g', 'e', 'm', 'e', 'n', 't', ' ', 'f', 'r', 'e', 'e', 'd', 'o', 'm', ' ', 'c', 'a', 'r', 'v', 'e', ' ', 'p', 'r', 'o', 'f', 'i', 't', 'a', 'b', 'l', 'e', ' ', 't', 'e', 'r', 'r', 'i', 't', 'o', 'r', 'y', ' ', 'a', 'c', 'r', 'o', 's', 's', ' ', 'n', 'e', 't', 'h', 'e', 'r', 'l', 'a', 'n', 'd', 's', ' ', 'c', 'o', 'm', 'p', 'a', 'n', 'y', ' ', 'g', 'l', 'o', 'b', 'a', 'l', ' ', 'p', 'r', 'e', 's', 'e', 'n', 'c', 'e', ' ', 'o', 'f', 'f', 'e', 'r', 'i', 'n', 'g', ' ', 'b', 'e', 's', 't', ' ', 'c', 'l', 'a', 's', 's', ' ', 's', 'o', 'l', 'u', 't', 'i', 'o', 'n', ' ', 'p', 'r', 'o', 'v', 'i', 'd', 'e', 's', ' ', 'e', 'x', 't', 'e', 'n', 's', 'i', 'v', 'e', ' ', 'h', 'o', 'u', 's', 'e', ' ', 't', 'r', 'a', 'i', 'n', 'i', 'n', 'g', ' ', 'b', 'e', 'l', 'i', 'e', 'f', ' ', 't', 'e', 'c', 'h', 'n', 'i', 'c', 'a', 'l', ' ', 's', 'a', 'l', 'e', ' ', 's', 'p', 'e', 'c', 'i', 'a', 'l', 'i', 's', 't', ' ', 'p', 'r', 'o', 'v', 'i', 'd', 'e', ' ', 'f', 'i', 'r', 's', 't', ' ', 'c', 'l', 'a', 's', 's', ' ', 'p', 'o', 's', 't', 's', 'a', 'l', 'e', 's', ' ', 's', 'u', 'p', 'p', 'o', 'r', 't', ' ', 'm', 'a', 'i', 'n', 't', 'a', 'i', 'n', ' ', 'c', 'l', 'o', 's', 'e', ' ', 'w', 'o', 'r', 'k', 'i', 'n', 'g', ' ', 'r', 'e', 'l', 'a', 't', 'i', 'o', 'n', 's', 'h', 'i', 'p', ' ', 'e', 'n', 'd', ' ', 'u', 's', 'e', 'r', ' ', 'c', 'u', 'r', 'r', 'e', 'n', 't', 'l', 'y', ' ', 'e', 'x', 'p', 'e', 'r', 'i', 'e', 'n', 'c', 'i', 'n', 'g', ' ', 'e', 'x', 'c', 'e', 'l', 'l', 'e', 'n', 't', ' ', 'l', 'e', 'v', 'e', 'l', ' ', 'g', 'r', 'o', 'w', 't', 'h', ' ', 'n', 'e', 'w', ' ', 'p', 'r', 'o', 'd', 'u', 'c', 't', ' ', 'l', 'i', 'n', 'e', ' ', 'a', 'd', 'd', 'e', 'd', ' ', 'p', 'o', 'r', 't', 'f', 'o', 'l', 'i', 'o', ' ', 'p', 'r', 'o', 'v', 'i', 'd', 'i', 'n', 'g', ' ', 's', 'o', 'l', 'u', 't', 'i', 'o', 'n', ' ', 'c', 'l', 'i', 'n', 'i', 'c', 'a', 'l', ' ', 'l', 'a', 'b', ' ', 'r', 'e', 'm', 'u', 'n', 'e', 'r', 'a', 't', 'i', 'o', 'n', ' ', 'o', 'r', 'd', 'e', 'r', ' ', 's', 'e', 'c', 'u', 'r', 'e', ' ', 's', 'e', 'r', 'v', 'i', 'c', 'e', ' ', 'r', 'i', 'g', 'h', 't', ' ', 'q', 'u', 'a', 'l', 'i', 't', 'y', ' ', 'c', 'a', 'n', 'd', 'i', 'd', 'a', 't', 'e', ' ', 'c', 'l', 'i', 'e', 'n', 't', ' ', 'o', 'f', 'f', 'e', 'r', 'i', 'n', 'g', ' ', 'h', 'i', 'g', 'h', 'l', 'y', ' ', 'a', 't', 't', 'r', 'a', 'c', 't', 'i', 'v', 'e', ' ', 's', 'a', 'l', 'a', 'r', 'y', ' ', 'p', 'a', 'c', 'k', 'a', 'g', 'e', ' ', 'a', 'd', 'd', 'i', 't', 'i', 'o', 'n', 'a', 'l', ' ', 'b', 'e', 'n', 'e', 'f', 'i', 't', ' ', 'i', 'n', 'c', 'l', 'u', 'd', 'e', ' ', 'c', 'a', 'r', ' ', 'h', 'e', 'a', 'l', 't', 'h', 'c', 'a', 'r', 'e', ' ', 'p', 'e', 'n', 's', 'i', 'o', 'n', ' ', 'z', 'e', 's', 't', ' ', 's', 'c', 'i', 'e', 'n', 't', 'i', 'f', 'i', 'c', ' ', 'w', 'o', 'r', 'k', 'i', 'n', 'g', ' ', 's', 't', 'r', 'i', 'c', 't', ' ', 'd', 'e', 'a', 'd', 'l', 'i', 'n', 'e', ' ', 'o', 'r', 'd', 'e', 'r', ' ', 'c', 'o', 'n', 's', 'i', 'd', 'e', 'r', 'e', 'd', ' ', 'o', 'p', 'p', 'o', 'r', 't', 'u', 'n', 'i', 't', 'y', ' ', 'p', 'l', 'e', 'a', 's', 'e', ' ', 'a', 'p', 'p', 'l', 'y', ' ', 'a', 'p', 'p', 'l', 'i', 'c', 'a', 't', 'i', 'o', 'n', ' ', 'r', 'e', 'v', 'i', 'e', 'w', 'e', 'd', ' ', 'i', 'm', 'm', 'e', 'd', 'i', 'a', 't', 'e', 'l', 'y', ' ', 'a', 'p', 'p', 'l', 'y', ' ', 'r', 'e', 'f']\n"
          ],
          "name": "stdout"
        }
      ]
    },
    {
      "cell_type": "code",
      "metadata": {
        "id": "QWhn-gWKt0SW",
        "colab_type": "code",
        "outputId": "32da55d7-1465-4411-ffc3-e7b712151a8d",
        "colab": {}
      },
      "source": [
        "train.ngrams.head()"
      ],
      "execution_count": 0,
      "outputs": [
        {
          "output_type": "execute_result",
          "data": {
            "text/plain": [
              "0    zest scientific searching scientific sale prof...\n",
              "1    mundo los cro típicos está haciendo grandes ol...\n",
              "2    asha mistry umbilical life recruiting experien...\n",
              "3    sale representative laser der medizintechnik m...\n",
              "4    field service engineer life science cambridge ...\n",
              "Name: ngrams, dtype: object"
            ]
          },
          "metadata": {
            "tags": []
          },
          "execution_count": 16
        }
      ]
    },
    {
      "cell_type": "code",
      "metadata": {
        "id": "tssl3KoHt0SZ",
        "colab_type": "code",
        "colab": {}
      },
      "source": [
        ""
      ],
      "execution_count": 0,
      "outputs": []
    },
    {
      "cell_type": "code",
      "metadata": {
        "id": "gwpKoezYt0Sb",
        "colab_type": "code",
        "colab": {}
      },
      "source": [
        ""
      ],
      "execution_count": 0,
      "outputs": []
    },
    {
      "cell_type": "code",
      "metadata": {
        "id": "f_PzOYvut0Sd",
        "colab_type": "code",
        "colab": {}
      },
      "source": [
        ""
      ],
      "execution_count": 0,
      "outputs": []
    },
    {
      "cell_type": "code",
      "metadata": {
        "id": "cZULjIUbt0Sf",
        "colab_type": "code",
        "colab": {}
      },
      "source": [
        ""
      ],
      "execution_count": 0,
      "outputs": []
    },
    {
      "cell_type": "code",
      "metadata": {
        "id": "H8Uitv34t0Si",
        "colab_type": "code",
        "colab": {}
      },
      "source": [
        ""
      ],
      "execution_count": 0,
      "outputs": []
    }
  ]
}